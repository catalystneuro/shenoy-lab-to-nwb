{
 "cells": [
  {
   "cell_type": "code",
   "execution_count": 1,
   "metadata": {},
   "outputs": [],
   "source": [
    "%config Completer.use_jedi = False #to enable autocompletion in jupyter notebooks\n",
    "import sys\n",
    "sys.path.extend(['C:\\\\Users\\\\Saksham\\\\Documents\\\\NWB\\\\shenoy', 'C:/Users/Saksham/Documents/NWB/shenoy/shenoy-lab-to-nwb'])\n",
    "from pathlib import Path\n",
    "nwbfile_loc = Path(r\"C:\\Users\\Saksham\\Documents\\NWB\\shenoy\\data\\MazeTask\\Jenkins\\SpikeSorted\\0928\\0928_nwb_v5_beforemeeting.nwb\")\n",
    "from pynwb import NWBHDF5IO\n",
    "from maze_task.widgets.widget import load_maze_task_widget\n",
    "from IPython.display import display\n",
    "io = NWBHDF5IO(str(nwbfile_loc), mode='r', load_namespaces=False)\n",
    "nwb = io.read()\n",
    "a=load_maze_task_widget(nwb)"
   ]
  },
  {
   "cell_type": "code",
   "execution_count": 2,
   "metadata": {
    "scrolled": false
   },
   "outputs": [
    {
     "data": {
      "application/vnd.jupyter.widget-view+json": {
       "model_id": "e86cb60de3654f0c9472a4c2cc784a55",
       "version_major": 2,
       "version_minor": 0
      },
      "text/plain": [
       "VBox(children=(HBox(children=(Label(value='session_description:', layout=Layout(max_height='40px', max_width='…"
      ]
     },
     "metadata": {},
     "output_type": "display_data"
    },
    {
     "ename": "IndexError",
     "evalue": "list index out of range",
     "output_type": "error",
     "traceback": [
      "\u001b[1;31m---------------------------------------------------------------------------\u001b[0m",
      "\u001b[1;31mIndexError\u001b[0m                                Traceback (most recent call last)",
      "\u001b[1;32mC:/Users/Saksham/Documents/NWB/shenoy/shenoy-lab-to-nwb\\maze_task\\widgets\\widget.py\u001b[0m in \u001b[0;36mplot_trials\u001b[1;34m(self, change)\u001b[0m\n\u001b[0;32m    124\u001b[0m                 \u001b[0ma\u001b[0m \u001b[1;33m=\u001b[0m \u001b[0mself\u001b[0m\u001b[1;33m.\u001b[0m\u001b[0mversions\u001b[0m\u001b[1;33m.\u001b[0m\u001b[0mindex\u001b[0m\u001b[1;33m(\u001b[0m\u001b[0mself\u001b[0m\u001b[1;33m.\u001b[0m\u001b[0mtrials_version_data\u001b[0m\u001b[1;33m[\u001b[0m\u001b[0mtrial_no\u001b[0m\u001b[1;33m]\u001b[0m\u001b[1;33m)\u001b[0m\u001b[1;33m+\u001b[0m\u001b[1;36m1\u001b[0m\u001b[1;33m\u001b[0m\u001b[1;33m\u001b[0m\u001b[0m\n\u001b[0;32m    125\u001b[0m                 \u001b[0mb\u001b[0m \u001b[1;33m=\u001b[0m \u001b[0mself\u001b[0m\u001b[1;33m.\u001b[0m\u001b[0mtypes\u001b[0m\u001b[1;33m.\u001b[0m\u001b[0mindex\u001b[0m\u001b[1;33m(\u001b[0m\u001b[0mself\u001b[0m\u001b[1;33m.\u001b[0m\u001b[0mtrials_type_data\u001b[0m\u001b[1;33m[\u001b[0m\u001b[0mtrial_no\u001b[0m\u001b[1;33m]\u001b[0m\u001b[1;33m)\u001b[0m\u001b[1;33m+\u001b[0m\u001b[1;36m1\u001b[0m\u001b[1;33m\u001b[0m\u001b[1;33m\u001b[0m\u001b[0m\n\u001b[1;32m--> 126\u001b[1;33m                 \u001b[0mtrial_rows\u001b[0m\u001b[1;33m[\u001b[0m\u001b[0ma\u001b[0m\u001b[1;33m*\u001b[0m\u001b[0mb\u001b[0m\u001b[1;33m]\u001b[0m\u001b[1;33m.\u001b[0m\u001b[0mappend\u001b[0m\u001b[1;33m(\u001b[0m\u001b[0mtrial_no\u001b[0m\u001b[1;33m)\u001b[0m\u001b[1;33m\u001b[0m\u001b[1;33m\u001b[0m\u001b[0m\n\u001b[0m\u001b[0;32m    127\u001b[0m                 \u001b[0mcursor_trajectory\u001b[0m\u001b[1;33m[\u001b[0m\u001b[0ma\u001b[0m\u001b[1;33m*\u001b[0m\u001b[0mb\u001b[0m\u001b[1;33m]\u001b[0m\u001b[1;33m.\u001b[0m\u001b[0mappend\u001b[0m\u001b[1;33m(\u001b[0m\u001b[0mself\u001b[0m\u001b[1;33m.\u001b[0m\u001b[0mtrialized_ts\u001b[0m\u001b[1;33m[\u001b[0m\u001b[0mtrial_no\u001b[0m\u001b[1;33m]\u001b[0m\u001b[1;33m)\u001b[0m\u001b[1;33m\u001b[0m\u001b[1;33m\u001b[0m\u001b[0m\n\u001b[0;32m    128\u001b[0m \u001b[1;33m\u001b[0m\u001b[0m\n",
      "\u001b[1;31mIndexError\u001b[0m: list index out of range"
     ]
    },
    {
     "ename": "ValueError",
     "evalue": "This figure already has subplots.",
     "output_type": "error",
     "traceback": [
      "\u001b[1;31m---------------------------------------------------------------------------\u001b[0m",
      "\u001b[1;31mValueError\u001b[0m                                Traceback (most recent call last)",
      "\u001b[1;32mC:/Users/Saksham/Documents/NWB/shenoy/shenoy-lab-to-nwb\\maze_task\\widgets\\widget.py\u001b[0m in \u001b[0;36mplot_trials\u001b[1;34m(self, change)\u001b[0m\n\u001b[0;32m     92\u001b[0m         \u001b[0mtot_rows\u001b[0m \u001b[1;33m=\u001b[0m \u001b[0mlen\u001b[0m\u001b[1;33m(\u001b[0m\u001b[0mself\u001b[0m\u001b[1;33m.\u001b[0m\u001b[0mversions\u001b[0m\u001b[1;33m)\u001b[0m\u001b[1;33m\u001b[0m\u001b[1;33m\u001b[0m\u001b[0m\n\u001b[0;32m     93\u001b[0m         \u001b[0mtot_cols\u001b[0m \u001b[1;33m=\u001b[0m \u001b[0mlen\u001b[0m\u001b[1;33m(\u001b[0m\u001b[0mself\u001b[0m\u001b[1;33m.\u001b[0m\u001b[0mtypes\u001b[0m\u001b[1;33m)\u001b[0m\u001b[1;33m\u001b[0m\u001b[1;33m\u001b[0m\u001b[0m\n\u001b[1;32m---> 94\u001b[1;33m         self.figure.set_subplots(tot_rows,tot_cols,\n\u001b[0m\u001b[0;32m     95\u001b[0m                             \u001b[0mshared_xaxes\u001b[0m\u001b[1;33m=\u001b[0m\u001b[1;32mFalse\u001b[0m\u001b[1;33m,\u001b[0m\u001b[1;33m\u001b[0m\u001b[1;33m\u001b[0m\u001b[0m\n\u001b[0;32m     96\u001b[0m                             \u001b[0mshared_yaxes\u001b[0m\u001b[1;33m=\u001b[0m\u001b[1;32mFalse\u001b[0m\u001b[1;33m,\u001b[0m\u001b[1;33m\u001b[0m\u001b[1;33m\u001b[0m\u001b[0m\n",
      "\u001b[1;32m~\\Documents\\NWB\\roiextractors\\venv\\lib\\site-packages\\plotly\\basedatatypes.py\u001b[0m in \u001b[0;36mset_subplots\u001b[1;34m(self, rows, cols, **make_subplots_args)\u001b[0m\n\u001b[0;32m   4185\u001b[0m             \u001b[0mmake_subplots_args\u001b[0m\u001b[1;33m[\u001b[0m\u001b[1;34m\"cols\"\u001b[0m\u001b[1;33m]\u001b[0m \u001b[1;33m=\u001b[0m \u001b[0mcols\u001b[0m\u001b[1;33m\u001b[0m\u001b[1;33m\u001b[0m\u001b[0m\n\u001b[0;32m   4186\u001b[0m         \u001b[1;32mif\u001b[0m \u001b[0mself\u001b[0m\u001b[1;33m.\u001b[0m\u001b[0m_has_subplots\u001b[0m\u001b[1;33m(\u001b[0m\u001b[1;33m)\u001b[0m\u001b[1;33m:\u001b[0m\u001b[1;33m\u001b[0m\u001b[1;33m\u001b[0m\u001b[0m\n\u001b[1;32m-> 4187\u001b[1;33m             \u001b[1;32mraise\u001b[0m \u001b[0mValueError\u001b[0m\u001b[1;33m(\u001b[0m\u001b[1;34m\"This figure already has subplots.\"\u001b[0m\u001b[1;33m)\u001b[0m\u001b[1;33m\u001b[0m\u001b[1;33m\u001b[0m\u001b[0m\n\u001b[0m\u001b[0;32m   4188\u001b[0m         \u001b[1;32mreturn\u001b[0m \u001b[0msubplots\u001b[0m\u001b[1;33m.\u001b[0m\u001b[0mmake_subplots\u001b[0m\u001b[1;33m(\u001b[0m\u001b[0mfigure\u001b[0m\u001b[1;33m=\u001b[0m\u001b[0mself\u001b[0m\u001b[1;33m,\u001b[0m \u001b[1;33m**\u001b[0m\u001b[0mmake_subplots_args\u001b[0m\u001b[1;33m)\u001b[0m\u001b[1;33m\u001b[0m\u001b[1;33m\u001b[0m\u001b[0m\n\u001b[0;32m   4189\u001b[0m \u001b[1;33m\u001b[0m\u001b[0m\n",
      "\u001b[1;31mValueError\u001b[0m: This figure already has subplots."
     ]
    }
   ],
   "source": [
    "display(a)"
   ]
  },
  {
   "cell_type": "code",
   "execution_count": 16,
   "metadata": {
    "scrolled": false
   },
   "outputs": [
    {
     "data": {
      "application/vnd.jupyter.widget-view+json": {
       "model_id": "82c5b6a9f22c4ffeb288fcf3f77ddee9",
       "version_major": 2,
       "version_minor": 0
      },
      "text/plain": [
       "MazeTaskWidget(children=(SelectMultiple(description='trial type selector', layout=Layout(max_width='120px'), o…"
      ]
     },
     "metadata": {},
     "output_type": "display_data"
    },
    {
     "name": "stdout",
     "output_type": "stream",
     "text": [
      "0\n"
     ]
    }
   ],
   "source": [
    "trials = nwb.trials\n",
    "from nwbwidgets.view import default_neurodata_vis_spec\n",
    "from ipywidgets import widgets, Layout\n",
    "from pynwb import TimeSeries\n",
    "from pynwb.epoch import TimeIntervals\n",
    "import numpy as np\n",
    "import plotly.graph_objects as go\n",
    "from nwbwidgets.utils.timeseries import timeseries_time_to_ind\n",
    "from nwbwidgets import (\n",
    "    base,\n",
    "    ecephys,\n",
    ")\n",
    "import pynwb\n",
    "import tqdm\n",
    "import threading\n",
    "\n",
    "\n",
    "class MazeTaskWidget(widgets.VBox):\n",
    "    def __init__(self,\n",
    "                 trials: TimeIntervals,\n",
    "                 timeseries: TimeSeries=None,\n",
    "                 ):\n",
    "        super().__init__()\n",
    "        self.versions = None\n",
    "        self.types = None\n",
    "        self.trials = trials\n",
    "        if timeseries is None:\n",
    "            self.time_series = self.get_cursor_ts()\n",
    "        else:\n",
    "            self.time_series = timeseries\n",
    "        self.trialized_ts = self.trialize_time_series()\n",
    "        self.trials_version_data = self.trials['trial_version'].data[()]\n",
    "        self.trials_type_data = self.trials['trial_type'].data[()]\n",
    "        self.trial_type_dd = widgets.SelectMultiple(\n",
    "            options=np.unique(self.trials_type_data),\n",
    "            value=(),\n",
    "            description=\"trial type selector\",\n",
    "            layout=Layout(max_width=\"120px\"),\n",
    "        )\n",
    "        self.trial_type_dd.observe(self.trial_type_dd_observer)\n",
    "\n",
    "        self.trial_version_dd = widgets.SelectMultiple(\n",
    "            options=np.unique(self.trials_version_data),\n",
    "            value=(),\n",
    "            description=\"trial versions selector\",\n",
    "            layout=Layout(max_width=\"120px\"),\n",
    "        )\n",
    "        self.trial_version_dd.observe(self.trial_version_dd_observer)\n",
    "\n",
    "        self.plot_button = widgets.Button(\n",
    "            description='Click to plot'\n",
    "        )\n",
    "        self.figure = go.FigureWidget()\n",
    "        self.plot_button.on_click(self.plot_trials)\n",
    "        # self.children = (widgets.VBox(children=(widgets.VBox(children=(self.trial_type_dd,\n",
    "        #                                        self.trial_version_dd)),\n",
    "        #                               self.plot_button,\n",
    "        #                               self.figure)),)\n",
    "        self.progress = widgets.FloatProgress(value=0.0,min=0.0,max=1.0,disabled=True)\n",
    "        self.children = [self.trial_type_dd,\n",
    "                         self.trial_version_dd,\n",
    "                         self.plot_button,\n",
    "                         self.progress,\n",
    "                         self.figure]\n",
    "\n",
    "    def trialize_time_series(self):\n",
    "        trl_ts = []\n",
    "        for trial_no in range(len(self.trials)):\n",
    "            start_id = timeseries_time_to_ind(self.time_series, self.trials['start_time'][trial_no])\n",
    "            stop_id = timeseries_time_to_ind(self.time_series, self.trials['stop_time'][trial_no])\n",
    "            nan_data = np.nan*np.ones(shape=self.time_series.data.shape[1])\n",
    "            data = np.vstack([self.time_series.data[start_id:stop_id],nan_data])\n",
    "            trl_ts.append(data)\n",
    "        return trl_ts\n",
    "    \n",
    "    def get_cursor_ts(self):\n",
    "        nwbfile = self.trials.get_ancestor(\"NWBFile\")\n",
    "        try:\n",
    "            cursor = nwbfile.processing['behavior'].data_interfaces['Position'].spatial_series['Cursor']\n",
    "        except Exception as e:\n",
    "            cursor = None\n",
    "        return cursor\n",
    "\n",
    "    def trial_type_dd_observer(self,change):\n",
    "        if change['type'] == 'change':\n",
    "            self.types = self.trial_type_dd.value\n",
    "\n",
    "    def trial_version_dd_observer(self, change):\n",
    "        if change['type'] == 'change':\n",
    "            self.versions = self.trial_version_dd.value\n",
    "    \n",
    "    def plot_trials_async(self,change):\n",
    "        th = threading.Thread(target=self.plot_trials)\n",
    "        th.start()\n",
    "    \n",
    "    def plot_trials(self,change):\n",
    "        print(len(self.figure.data))\n",
    "        self.figure = go.FigureWidget() if len(self.figure.data)>0 else self.figure\n",
    "        titles = [f'trial version {version}, trial type {type}'\n",
    "                  for type in self.types for version in self.versions]\n",
    "        tot_rows = len(self.versions)\n",
    "        tot_cols = len(self.types)\n",
    "        self.figure.set_subplots(tot_rows,tot_cols,\n",
    "                            shared_xaxes=False,\n",
    "                            shared_yaxes=False,\n",
    "                            subplot_titles=titles)\n",
    "        c=0\n",
    "        self.progress.disabled=False\n",
    "        trial_rows = []\n",
    "        cursor_trajectory = []\n",
    "        for i in range(tot_rows*tot_cols):\n",
    "            cursor_trajectory.append([])\n",
    "            trial_rows.append([])\n",
    "        for trial_no in range(len(self.trials)):\n",
    "            if self.trials_version_data[trial_no] in self.versions and self.trials_type_data[trial_no] in self.types:\n",
    "                a = self.versions.index(self.trials_version_data[trial_no])+1\n",
    "                b = self.types.index(self.trials_type_data[trial_no])+1\n",
    "                trial_rows[a*b-1].append(trial_no)\n",
    "                cursor_trajectory[a*b-1].append(self.trialized_ts[trial_no])\n",
    "\n",
    "        for a in range(tot_rows):\n",
    "            for b in range(tot_cols):\n",
    "                with self.figure.batch_update():\n",
    "                    self.progress.value = ((a+1)*(b+1))/(tot_rows*tot_cols)\n",
    "                    self.progress.description = f'{self.progress.value:.2f}'\n",
    "                    trial_row = trial_rows[(a+1)*(b+1)-1][0]\n",
    "                    #plot target positions:\n",
    "                    target_pos = self.trials['target_positions'][trial_row]\n",
    "\n",
    "                    self.figure.add_trace(go.Scattergl(x=target_pos[:, 0], y=target_pos[:, 1], showlegend=False),\n",
    "                                          row=a + 1, col=b + 1)\n",
    "                    #plot barriers:\n",
    "                    barrier_pos = self.trials['barrier_info'][trial_row]\n",
    "                    for bar in barrier_pos:\n",
    "                        self.figure.add_shape(type='rect',\n",
    "                                              x0=bar[0] - bar[3], y0=bar[1] - bar[2],\n",
    "                                              x1=bar[0] + bar[3], y1=bar[1] + bar[2],\n",
    "                                              fillcolor='black',\n",
    "                                              row=a + 1, col=b + 1)\n",
    "                    #plot trajectory:\n",
    "                    data = np.concatenate(cursor_trajectory[(a+1)*(b+1)-1],axis=0)\n",
    "                    self.figure.add_trace(go.Scattergl(x=data[:, 0],\n",
    "                                                       y=data[:, 1],\n",
    "                                                       showlegend=False,\n",
    "                                                       line_color='red'),\n",
    "                                          row=a + 1, col=b + 1)\n",
    "MazeTaskWidget(trials)"
   ]
  },
  {
   "cell_type": "code",
   "execution_count": null,
   "metadata": {},
   "outputs": [],
   "source": []
  }
 ],
 "metadata": {
  "kernelspec": {
   "display_name": "roiextractors",
   "language": "python",
   "name": "venv"
  },
  "language_info": {
   "codemirror_mode": {
    "name": "ipython",
    "version": 3
   },
   "file_extension": ".py",
   "mimetype": "text/x-python",
   "name": "python",
   "nbconvert_exporter": "python",
   "pygments_lexer": "ipython3",
   "version": "3.8.3"
  }
 },
 "nbformat": 4,
 "nbformat_minor": 1
}
