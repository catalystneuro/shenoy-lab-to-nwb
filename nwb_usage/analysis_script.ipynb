{
 "cells": [
  {
   "cell_type": "markdown",
   "id": "90296871-ccf2-4b65-8a37-61cde0d353ee",
   "metadata": {},
   "source": [
    "## Analysis scripts:\n",
    "This script shows how to retrieve relavant data from an nwb file (both stored locally and streaming from DANDI)."
   ]
  },
  {
   "cell_type": "markdown",
   "id": "c4a56090-e3cc-4be5-a9ff-1e3257aafc00",
   "metadata": {},
   "source": [
    "1. Functions to retrive the cloud storage path for an nwb file stored in DANDI."
   ]
  },
  {
   "cell_type": "code",
   "execution_count": 1,
   "id": "8744905d-e9a6-4b9a-a92d-fca15e36c2ef",
   "metadata": {
    "jupyter": {
     "outputs_hidden": true
    },
    "tags": []
   },
   "outputs": [],
   "source": [
    "import pynwb\n",
    "from pynwb import NWBHDF5IO\n",
    "from nwbwidgets import nwb2widget\n",
    "import requests\n",
    "from dandi.dandiapi import DandiAPIClient\n",
    "\n",
    "dandiset_id = \"000121\"\n",
    "filepath = \"sub-Reggie/sub-Reggie_ses-20170118T094022_behavior+ecephys.nwb\"\n",
    "\n",
    "with DandiAPIClient() as client:\n",
    "    asset = client.get_dandiset(dandiset_id, 'draft').get_asset_by_path(filepath)\n",
    "    s3_path = asset.get_content_url(follow_redirects=1, strip_query=True)"
   ]
  },
  {
   "cell_type": "markdown",
   "id": "2e53b8bc-9e90-4513-8625-584c7b66b15b",
   "metadata": {},
   "source": [
    "2. Open the nwb file:"
   ]
  },
  {
   "cell_type": "code",
   "execution_count": 74,
   "id": "09d44a5b-de88-4aa2-8acf-e5756793aae2",
   "metadata": {
    "tags": []
   },
   "outputs": [
    {
     "name": "stderr",
     "output_type": "stream",
     "text": [
      "/opt/conda/lib/python3.9/site-packages/hdmf/spec/namespace.py:532: UserWarning: Ignoring cached namespace 'core' version 2.2.5 because version 2.4.0 is already loaded.\n",
      "  warn(\"Ignoring cached namespace '%s' version %s because version %s is already loaded.\"\n"
     ]
    }
   ],
   "source": [
    "# use the \"Read Only S3\" (ros3) driver to stream data directly from DANDI (or any other S3 location)\n",
    "local_filepath = '/home/jovyan/shenoy/data/pr_npx_0323.nwb' \n",
    "io = NWBHDF5IO(local_filepath, mode='r', load_namespaces=True)\n",
    "# io = NWBHDF5IO(s3_path, mode='r', load_namespaces=True, driver='ros3')\n",
    "nwb = io.read()"
   ]
  },
  {
   "cell_type": "code",
   "execution_count": 75,
   "id": "2d70cd9e-8283-4250-9c53-73f6787da71a",
   "metadata": {
    "tags": []
   },
   "outputs": [
    {
     "ename": "KeyError",
     "evalue": "'ecephys'",
     "output_type": "error",
     "traceback": [
      "\u001B[0;31m---------------------------------------------------------------------------\u001B[0m",
      "\u001B[0;31mKeyError\u001B[0m                                  Traceback (most recent call last)",
      "\u001B[0;32m/tmp/ipykernel_1069/2599236351.py\u001B[0m in \u001B[0;36m<module>\u001B[0;34m\u001B[0m\n\u001B[0;32m----> 1\u001B[0;31m \u001B[0mprint\u001B[0m\u001B[0;34m(\u001B[0m\u001B[0mnwb\u001B[0m\u001B[0;34m.\u001B[0m\u001B[0mprocessing\u001B[0m\u001B[0;34m[\u001B[0m\u001B[0;34m'ecephys'\u001B[0m\u001B[0;34m]\u001B[0m\u001B[0;34m.\u001B[0m\u001B[0mdata_interfaces\u001B[0m\u001B[0;34m.\u001B[0m\u001B[0mkeys\u001B[0m\u001B[0;34m(\u001B[0m\u001B[0;34m)\u001B[0m\u001B[0;34m)\u001B[0m\u001B[0;34m\u001B[0m\u001B[0;34m\u001B[0m\u001B[0m\n\u001B[0m",
      "\u001B[0;32m/opt/conda/lib/python3.9/site-packages/hdmf/utils.py\u001B[0m in \u001B[0;36m__getitem__\u001B[0;34m(self, args)\u001B[0m\n\u001B[1;32m    930\u001B[0m                 \u001B[0;32mreturn\u001B[0m \u001B[0msuper\u001B[0m\u001B[0;34m(\u001B[0m\u001B[0;34m)\u001B[0m\u001B[0;34m.\u001B[0m\u001B[0m__getitem__\u001B[0m\u001B[0;34m(\u001B[0m\u001B[0mval\u001B[0m\u001B[0;34m)\u001B[0m\u001B[0;34m\u001B[0m\u001B[0;34m\u001B[0m\u001B[0m\n\u001B[1;32m    931\u001B[0m         \u001B[0;32melse\u001B[0m\u001B[0;34m:\u001B[0m\u001B[0;34m\u001B[0m\u001B[0;34m\u001B[0m\u001B[0m\n\u001B[0;32m--> 932\u001B[0;31m             \u001B[0;32mreturn\u001B[0m \u001B[0msuper\u001B[0m\u001B[0;34m(\u001B[0m\u001B[0;34m)\u001B[0m\u001B[0;34m.\u001B[0m\u001B[0m__getitem__\u001B[0m\u001B[0;34m(\u001B[0m\u001B[0mkey\u001B[0m\u001B[0;34m)\u001B[0m\u001B[0;34m\u001B[0m\u001B[0;34m\u001B[0m\u001B[0m\n\u001B[0m\u001B[1;32m    933\u001B[0m \u001B[0;34m\u001B[0m\u001B[0m\n\u001B[1;32m    934\u001B[0m     \u001B[0;32mdef\u001B[0m \u001B[0m__setitem__\u001B[0m\u001B[0;34m(\u001B[0m\u001B[0mself\u001B[0m\u001B[0;34m,\u001B[0m \u001B[0mkey\u001B[0m\u001B[0;34m,\u001B[0m \u001B[0mvalue\u001B[0m\u001B[0;34m)\u001B[0m\u001B[0;34m:\u001B[0m\u001B[0;34m\u001B[0m\u001B[0;34m\u001B[0m\u001B[0m\n",
      "\u001B[0;31mKeyError\u001B[0m: 'ecephys'"
     ]
    }
   ],
   "source": [
    "print(nwb.processing['ecephys'].data_interfaces.keys())"
   ]
  },
  {
   "cell_type": "markdown",
   "id": "090e7662-07d6-4a07-8316-95e3f1b26f5a",
   "metadata": {},
   "source": [
    "## Visualization:\n",
    "1. Position"
   ]
  },
  {
   "cell_type": "code",
   "execution_count": 76,
   "id": "eb943f6a-4af7-468f-b59e-fcbbc916627c",
   "metadata": {},
   "outputs": [
    {
     "name": "stdout",
     "output_type": "stream",
     "text": [
      "available behavior variables: ['hand_position']\n"
     ]
    },
    {
     "data": {
      "image/png": "[encoded data removed]",
      "text/plain": [
       "<Figure size 432x288 with 1 Axes>"
      ]
     },
     "metadata": {
      "needs_background": "light"
     },
     "output_type": "display_data"
    }
   ],
   "source": [
    "from nwbwidgets.behavior import route_spatial_series\n",
    "from bisect import bisect\n",
    "import plotly.graph_objects as go\n",
    "import matplotlib.pyplot as plt\n",
    "\n",
    "# retrieve all the spatial series ((x,y) position timeseries) stored in the nwb file:\n",
    "spatial_series_dict = nwb.processing['behavior'].data_interfaces['Position'].spatial_series\n",
    "names =  list(spatial_series_dict)\n",
    "print(f'available behavior variables: {names}')\n",
    "selected_name = names[0]\n",
    "\n",
    "# get x,y data for a specific dataset:\n",
    "spatial_series = spatial_series_dict[selected_name]\n",
    "spatial_series_data = spatial_series.data\n",
    "if spatial_series.timestamps is not None:\n",
    "    spatial_series_timestamps = spatial_series.timestamps\n",
    "else:\n",
    "    spatial_series_timestamps = spatial_series.starting_time + np.arange(spatial_series.shape[0])/spatial_series.rate\n",
    "    \n",
    "#plot x,y trace for a specific trial no:\n",
    "trial_nos = [12, 15, 6]\n",
    "for trial_no in trial_nos:\n",
    "    start_idx = bisect(spatial_series_timestamps, nwb.trials['start_time'][trial_no])\n",
    "    end_idx = bisect(spatial_series_timestamps, nwb.trials['stop_time'][trial_no])\n",
    "    # plot the x,y position:\n",
    "    plt.plot(spatial_series_data[start_idx:end_idx,0], spatial_series_data[start_idx:end_idx,1], label = f'trial {trial_no}')\n",
    "plt.xlabel('x')\n",
    "plt.ylabel('y')\n",
    "plt.legend()\n",
    "plt.title(f'x,y position for {selected_name}')\n",
    "plt.show()"
   ]
  },
  {
   "cell_type": "code",
   "execution_count": 5,
   "id": "2496639f-a343-4c95-a448-0749dca3b0da",
   "metadata": {},
   "outputs": [
    {
     "data": {
      "text/plain": [
       "LFP pynwb.ecephys.LFP at 0x140384060171456\n",
       "Fields:\n",
       "  electrical_series: {\n",
       "    M1_1 <class 'pynwb.ecephys.ElectricalSeries'>,\n",
       "    PMd_1 <class 'pynwb.ecephys.ElectricalSeries'>\n",
       "  }"
      ]
     },
     "execution_count": 5,
     "metadata": {},
     "output_type": "execute_result"
    }
   ],
   "source": [
    "#using nwbwidgets to plot:\n",
    "# wid = route_spatial_series(spatial_series)\n",
    "# wid"
   ]
  },
  {
   "cell_type": "markdown",
   "id": "3f97178f-b864-4888-9a03-22e0704dbe5f",
   "metadata": {},
   "source": [
    "2. Electrophysiology time series:"
   ]
  },
  {
   "cell_type": "code",
   "execution_count": 78,
   "id": "b785760b-dff9-446b-b0b9-b70260c6764f",
   "metadata": {},
   "outputs": [
    {
     "data": {
      "image/png": "[encoded data removed]",
      "text/plain": [
       "<Figure size 432x288 with 1 Axes>"
      ]
     },
     "metadata": {
      "needs_background": "light"
     },
     "output_type": "display_data"
    }
   ],
   "source": [
    "from nwbwidgets.ecephys import ElectricalSeriesWidget\n",
    "import numpy as np\n",
    "import matplotlib.pyplot as plt\n",
    "from bisect import bisect\n",
    "\n",
    "# LFP data stored:\n",
    "if 'ecephys' in nwb.processing:\n",
    "    eseries_name = list(nwb.processing['ecephys'].data_interfaces)[0]\n",
    "    ephys_trace_dict = nwb.processing['ecephys'].data_interfaces[eseries_name].electrical_series\n",
    "    # get data for a specific probe:\n",
    "    names =  list(ephys_trace_dict)\n",
    "    print(f'available behavior variables: {names}')\n",
    "    selected_name = names[0]\n",
    "    ephys_trace_container = ephys_trace_dict[selected_name]\n",
    "else:\n",
    "    # raw 30k Hz data:\n",
    "    eseries_name = \"raw\"\n",
    "    ephys_trace_container = nwb.acquisition['ElectricalSeries_raw']\n",
    "\n",
    "ephys_data = ephys_trace_container.data\n",
    "if ephys_trace_container.timestamps is not None:\n",
    "    ephys_timestamps = ephys_trace_container.timestamps\n",
    "else:\n",
    "    ephys_timestamps = ephys_trace_container.starting_time + np.arange(ephys_data.shape[0])/ephys_trace_container.rate\n",
    "    \n",
    "#plot trace for a specific trial no:\n",
    "trial_nos = np.arange(10,12)\n",
    "electrode_no = np.arange(ephys_data.shape[1])[10]\n",
    "for trial_no in trial_nos:\n",
    "    start_idx = bisect(ephys_timestamps, nwb.trials['start_time'][trial_no])\n",
    "    end_idx = bisect(ephys_timestamps, nwb.trials['stop_time'][trial_no])\n",
    "    # plot trace:\n",
    "    plt.plot(ephys_timestamps[start_idx:end_idx], ephys_data[start_idx:end_idx, electrode_no], label = f'trial {trial_no}')\n",
    "plt.xlabel('sec')\n",
    "plt.ylabel('uV')\n",
    "plt.legend()\n",
    "plt.title(f'{eseries_name} trace for array {selected_name}')\n",
    "plt.show()"
   ]
  },
  {
   "cell_type": "code",
   "execution_count": 67,
   "id": "ef926dff-54c5-400a-bd2b-69049f88ec90",
   "metadata": {},
   "outputs": [
    {
     "data": {
      "application/vnd.jupyter.widget-view+json": {
       "model_id": "721376d9de6f4e8abccf120748bbf79b",
       "version_major": 2,
       "version_minor": 0
      },
      "text/plain": [
       "ElectricalSeriesWidget(children=(GroupAndSortController(value={'order': array([ 0,  1,  2,  3,  4,  5,  6,  7,…"
      ]
     },
     "metadata": {},
     "output_type": "display_data"
    }
   ],
   "source": [
    "ElectricalSeriesWidget(ephys_trace_container)"
   ]
  },
  {
   "cell_type": "markdown",
   "id": "c07d0502-db55-44e3-baf3-cd0de23e4a40",
   "metadata": {},
   "source": [
    "3. Getting trials metadata:"
   ]
  },
  {
   "cell_type": "code",
   "execution_count": 68,
   "id": "bfa38b43-c68f-4bdc-bdf6-b02382c52bf9",
   "metadata": {},
   "outputs": [
    {
     "name": "stdout",
     "output_type": "stream",
     "text": [
      "('start_time', 'stop_time', 'target_presentation_time', 'go_cue_time', 'reaction_time', 'move_begins_time', 'move_ends_time', 'discard_trial', 'task_success', 'trial_type', 'trial_version', 'proto_trial', 'maze_condition', 'correct_reach', 'maze_num_targets', 'maze_num_barriers', 'novel_maze', 'target_positions', 'frame_details', 'hit_target_position', 'target_size', 'barrier_info', 'timeseries')\n",
      "Start time of epoch, in seconds\n"
     ]
    },
    {
     "ename": "KeyError",
     "evalue": "'barrier_points'",
     "output_type": "error",
     "traceback": [
      "\u001B[0;31m---------------------------------------------------------------------------\u001B[0m",
      "\u001B[0;31mKeyError\u001B[0m                                  Traceback (most recent call last)",
      "\u001B[0;32m/tmp/ipykernel_1069/181153299.py\u001B[0m in \u001B[0;36m<module>\u001B[0;34m\u001B[0m\n\u001B[1;32m     12\u001B[0m \u001B[0;34m\u001B[0m\u001B[0m\n\u001B[1;32m     13\u001B[0m \u001B[0;31m# for array like elements:\u001B[0m\u001B[0;34m\u001B[0m\u001B[0;34m\u001B[0m\u001B[0m\n\u001B[0;32m---> 14\u001B[0;31m \u001B[0mbarrier_points\u001B[0m\u001B[0;34m=\u001B[0m\u001B[0mtrials\u001B[0m\u001B[0;34m[\u001B[0m\u001B[0;34m'barrier_points'\u001B[0m\u001B[0;34m]\u001B[0m\u001B[0;34m\u001B[0m\u001B[0;34m\u001B[0m\u001B[0m\n\u001B[0m\u001B[1;32m     15\u001B[0m \u001B[0mprint\u001B[0m\u001B[0;34m(\u001B[0m\u001B[0mbarrier_points\u001B[0m\u001B[0;34m[\u001B[0m\u001B[0;36m0\u001B[0m\u001B[0;34m]\u001B[0m\u001B[0;34m.\u001B[0m\u001B[0mshape\u001B[0m\u001B[0;34m)\u001B[0m\u001B[0;34m\u001B[0m\u001B[0;34m\u001B[0m\u001B[0m\n\u001B[1;32m     16\u001B[0m \u001B[0mprint\u001B[0m\u001B[0;34m(\u001B[0m\u001B[0;34mf'sample barrier point:{barrier_points[0]}'\u001B[0m\u001B[0;34m)\u001B[0m\u001B[0;34m\u001B[0m\u001B[0;34m\u001B[0m\u001B[0m\n",
      "\u001B[0;32m/opt/conda/lib/python3.9/site-packages/hdmf/common/table.py\u001B[0m in \u001B[0;36m__getitem__\u001B[0;34m(self, key)\u001B[0m\n\u001B[1;32m    801\u001B[0m         \u001B[0mret\u001B[0m \u001B[0;34m=\u001B[0m \u001B[0mself\u001B[0m\u001B[0;34m.\u001B[0m\u001B[0mget\u001B[0m\u001B[0;34m(\u001B[0m\u001B[0mkey\u001B[0m\u001B[0;34m)\u001B[0m\u001B[0;34m\u001B[0m\u001B[0;34m\u001B[0m\u001B[0m\n\u001B[1;32m    802\u001B[0m         \u001B[0;32mif\u001B[0m \u001B[0mret\u001B[0m \u001B[0;32mis\u001B[0m \u001B[0;32mNone\u001B[0m\u001B[0;34m:\u001B[0m\u001B[0;34m\u001B[0m\u001B[0;34m\u001B[0m\u001B[0m\n\u001B[0;32m--> 803\u001B[0;31m             \u001B[0;32mraise\u001B[0m \u001B[0mKeyError\u001B[0m\u001B[0;34m(\u001B[0m\u001B[0mkey\u001B[0m\u001B[0;34m)\u001B[0m\u001B[0;34m\u001B[0m\u001B[0;34m\u001B[0m\u001B[0m\n\u001B[0m\u001B[1;32m    804\u001B[0m         \u001B[0;32mreturn\u001B[0m \u001B[0mret\u001B[0m\u001B[0;34m\u001B[0m\u001B[0;34m\u001B[0m\u001B[0m\n\u001B[1;32m    805\u001B[0m \u001B[0;34m\u001B[0m\u001B[0m\n",
      "\u001B[0;31mKeyError\u001B[0m: 'barrier_points'"
     ]
    }
   ],
   "source": [
    "trials = nwb.trials\n",
    "column_names = trials.colnames\n",
    "print(column_names)\n",
    "\n",
    "# can also convert to dataframe:\n",
    "trials_df = trials.to_dataframe()\n",
    "\n",
    "# retrieve specific column data:\n",
    "stop_time=trials['stop_time'] # in seconds with respect to the session start time\n",
    "start_time=trials['start_time']\n",
    "print(start_time.description)\n",
    "\n",
    "# for array like elements:\n",
    "barrier_points=trials['barrier_points']\n",
    "print(barrier_points[0].shape)\n",
    "print(f'sample barrier point:{barrier_points[0]}')\n",
    "print(barrier_points.target.description)"
   ]
  },
  {
   "cell_type": "markdown",
   "id": "1a2d4716-3e69-4743-8c41-60dbab6ba94b",
   "metadata": {},
   "source": [
    "4. Retrieve units/clusters metadata and raster:"
   ]
  },
  {
   "cell_type": "code",
   "execution_count": 69,
   "id": "f128be6c-6634-4bc2-8992-0869435e3b18",
   "metadata": {},
   "outputs": [
    {
     "name": "stdout",
     "output_type": "stream",
     "text": [
      "('spike_times', 'obs_intervals', 'electrodes', 'electrode_group') 192\n"
     ]
    },
    {
     "data": {
      "text/plain": [
       "(302598,)"
      ]
     },
     "execution_count": 69,
     "metadata": {},
     "output_type": "execute_result"
    }
   ],
   "source": [
    "units = nwb.units\n",
    "print(units.colnames, len(units))\n",
    "\n",
    "# get spike timestamps for a specific unit\n",
    "unit_no = 10\n",
    "spike_times = units['spike_times'][unit_no]\n",
    "spike_times.shape"
   ]
  },
  {
   "cell_type": "code",
   "execution_count": 70,
   "id": "524d6f51-5472-4f51-a3f0-72866b95a97b",
   "metadata": {},
   "outputs": [
    {
     "data": {
      "application/vnd.jupyter.widget-view+json": {
       "model_id": "4aa0b0f852004e0fae7b597660b852d0",
       "version_major": 2,
       "version_minor": 0
      },
      "text/plain": [
       "PSTHWidget(children=(HBox(children=(VBox(children=(GroupAndSortController(value={'order': array([   0,    1,  …"
      ]
     },
     "metadata": {},
     "output_type": "display_data"
    }
   ],
   "source": [
    "from nwbwidgets.misc import PSTHWidget, RasterWidget\n",
    "PSTHWidget(nwb.units)"
   ]
  },
  {
   "cell_type": "code",
   "execution_count": null,
   "id": "15a56668-b1a3-437c-87a8-d4610ebfc1ad",
   "metadata": {},
   "outputs": [],
   "source": []
  }
 ],
 "metadata": {
  "kernelspec": {
   "display_name": "shenoy_lab_nwb",
   "language": "python",
   "name": "shenoy_lab_nwb"
  },
  "language_info": {
   "codemirror_mode": {
    "name": "ipython",
    "version": 3
   },
   "file_extension": ".py",
   "mimetype": "text/x-python",
   "name": "python",
   "nbconvert_exporter": "python",
   "pygments_lexer": "ipython3",
   "version": "3.8.12"
  }
 },
 "nbformat": 4,
 "nbformat_minor": 5
}